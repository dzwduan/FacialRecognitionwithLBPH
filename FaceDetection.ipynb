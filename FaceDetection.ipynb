{
 "cells": [
  {
   "cell_type": "markdown",
   "metadata": {},
   "source": [
    "# Firing up the module "
   ]
  },
  {
   "cell_type": "code",
   "execution_count": 1,
   "metadata": {
    "collapsed": false
   },
   "outputs": [],
   "source": [
    "import cv2\n",
    "import numpy as np\n",
    "import pyttsx as voice\n",
    "from PIL import Image\n",
    "import os\n",
    "import time"
   ]
  },
  {
   "cell_type": "markdown",
   "metadata": {},
   "source": [
    "## Initiating the classifier"
   ]
  },
  {
   "cell_type": "code",
   "execution_count": 2,
   "metadata": {
    "collapsed": false
   },
   "outputs": [],
   "source": [
    "faceDetection = cv2.CascadeClassifier('haarcascade_frontalface_default.xml')\n",
    "cam = cv2.VideoCapture(0)\n",
    "engine = voice.init()"
   ]
  },
  {
   "cell_type": "markdown",
   "metadata": {},
   "source": [
    "## Detecting the faces without Googles or specticals and creating the Dataset with 20 samples."
   ]
  },
  {
   "cell_type": "code",
   "execution_count": 3,
   "metadata": {
    "collapsed": false
   },
   "outputs": [
    {
     "name": "stdout",
     "output_type": "stream",
     "text": [
      "Enter your Id!!\n",
      "7\n"
     ]
    }
   ],
   "source": [
    "id = raw_input(\"Enter your Id!!\\n\")\n",
    "sampleNumber=0\n",
    "engine.say(\"Please, Look at the Camera, your Facial Data Set are getting ready!!\")\n",
    "engine.runAndWait()\n",
    "\n",
    "while True:\n",
    "    cv2.waitKey(100)\n",
    "    ret,img = cam.read()\n",
    "    imggrey = cv2.cvtColor(img,cv2.COLOR_BGR2GRAY)\n",
    "    faces = faceDetection.detectMultiScale(imggrey,1.3,5)\n",
    "    for (x,y,w,h) in faces:\n",
    "        sampleNumber += 1\n",
    "        cv2.imwrite(\"FaceDataSets/user.\"+str(id)+\".\"+str(sampleNumber)+\".jpg\",imggrey[y:y+h,x:x+w])\n",
    "        cv2.rectangle(img,(x,y),(x+w,y+h),(255,0,0),1)\n",
    "        cv2.waitKey(100)\n",
    "    cv2.imshow(\"HomeScreen\",img)\n",
    "    k = cv2.waitKey(10)\n",
    "    if (sampleNumber > 20):\n",
    "        break\n",
    "engine.say(\"Thank you for your corporation, your Facial Data Sets are Ready!\")\n",
    "engine.runAndWait()\n",
    "cam.release()\n",
    "cv2.destroyAllWindows()"
   ]
  },
  {
   "cell_type": "markdown",
   "metadata": {},
   "source": [
    "## Training the Datasets for Recognision"
   ]
  },
  {
   "cell_type": "code",
   "execution_count": 4,
   "metadata": {
    "collapsed": false
   },
   "outputs": [],
   "source": [
    "recog = cv2.face.createLBPHFaceRecognizer()\n",
    "path = \"FaceDatasets\"\n",
    "\n",
    "def getImagesById(path):\n",
    "    imgPath = [os.path.join(path,f) for f in os.listdir(path)]\n",
    "    faces = []\n",
    "    Ids = []\n",
    "    for path in imgPath:\n",
    "        faceimg = Image.open(path).convert('L')\n",
    "        faceNp = np.array(faceimg,'uint8')\n",
    "        Id=int(os.path.split(path)[-1].split(\".\")[1])\n",
    "        faces.append(faceNp)\n",
    "        Ids.append(Id)\n",
    "        cv2.imshow(\"Traning\",faceNp)\n",
    "        cv2.waitKey(100)\n",
    "    return np.array(Ids),faces\n",
    "\n",
    "Ids,faces = getImagesById(path)\n",
    "recog.train(faces,np.array(Ids))\n",
    "engine.say(\"Training  Completed  at  \"+time.asctime( time.localtime(time.time()) )+\", System is ready to predict the faces\")\n",
    "engine.runAndWait()\n",
    "recog.save(\"Training/FaceDetectionTraining.yml\")\n",
    "cv2.destroyAllWindows()\n",
    "        "
   ]
  },
  {
   "cell_type": "markdown",
   "metadata": {
    "collapsed": true
   },
   "source": [
    "## Evaluating the Faces"
   ]
  },
  {
   "cell_type": "code",
   "execution_count": 6,
   "metadata": {
    "collapsed": false,
    "scrolled": true
   },
   "outputs": [
    {
     "ename": "error",
     "evalue": "..\\..\\..\\modules\\imgproc\\src\\color.cpp:7456: error: (-215) scn == 3 || scn == 4 in function cv::ipp_cvtColor\n",
     "output_type": "error",
     "traceback": [
      "\u001b[1;31m---------------------------------------------------------------------------\u001b[0m",
      "\u001b[1;31merror\u001b[0m                                     Traceback (most recent call last)",
      "\u001b[1;32m<ipython-input-6-d4f7a96fb42e>\u001b[0m in \u001b[0;36m<module>\u001b[1;34m()\u001b[0m\n\u001b[0;32m      4\u001b[0m \u001b[1;32mwhile\u001b[0m \u001b[0mTrue\u001b[0m\u001b[1;33m:\u001b[0m\u001b[1;33m\u001b[0m\u001b[0m\n\u001b[0;32m      5\u001b[0m     \u001b[0mret\u001b[0m\u001b[1;33m,\u001b[0m\u001b[0mimg\u001b[0m \u001b[1;33m=\u001b[0m \u001b[0mcam\u001b[0m\u001b[1;33m.\u001b[0m\u001b[0mread\u001b[0m\u001b[1;33m(\u001b[0m\u001b[1;33m)\u001b[0m\u001b[1;33m\u001b[0m\u001b[0m\n\u001b[1;32m----> 6\u001b[1;33m     \u001b[0mimggrey\u001b[0m \u001b[1;33m=\u001b[0m \u001b[0mcv2\u001b[0m\u001b[1;33m.\u001b[0m\u001b[0mcvtColor\u001b[0m\u001b[1;33m(\u001b[0m\u001b[0mimg\u001b[0m\u001b[1;33m,\u001b[0m\u001b[0mcv2\u001b[0m\u001b[1;33m.\u001b[0m\u001b[0mCOLOR_BGR2GRAY\u001b[0m\u001b[1;33m)\u001b[0m\u001b[1;33m\u001b[0m\u001b[0m\n\u001b[0m\u001b[0;32m      7\u001b[0m     \u001b[0mfaces\u001b[0m \u001b[1;33m=\u001b[0m \u001b[0mfaceDetection\u001b[0m\u001b[1;33m.\u001b[0m\u001b[0mdetectMultiScale\u001b[0m\u001b[1;33m(\u001b[0m\u001b[0mimggrey\u001b[0m\u001b[1;33m,\u001b[0m\u001b[1;36m1.3\u001b[0m\u001b[1;33m,\u001b[0m\u001b[1;36m5\u001b[0m\u001b[1;33m)\u001b[0m\u001b[1;33m\u001b[0m\u001b[0m\n\u001b[0;32m      8\u001b[0m     \u001b[1;32mfor\u001b[0m \u001b[1;33m(\u001b[0m\u001b[0mx\u001b[0m\u001b[1;33m,\u001b[0m\u001b[0my\u001b[0m\u001b[1;33m,\u001b[0m\u001b[0mw\u001b[0m\u001b[1;33m,\u001b[0m\u001b[0mh\u001b[0m\u001b[1;33m)\u001b[0m \u001b[1;32min\u001b[0m \u001b[0mfaces\u001b[0m\u001b[1;33m:\u001b[0m\u001b[1;33m\u001b[0m\u001b[0m\n",
      "\u001b[1;31merror\u001b[0m: ..\\..\\..\\modules\\imgproc\\src\\color.cpp:7456: error: (-215) scn == 3 || scn == 4 in function cv::ipp_cvtColor\n"
     ]
    }
   ],
   "source": [
    "id = 0\n",
    "font = cv2.FONT_HERSHEY_COMPLEX_SMALL\n",
    "recog.load('Training/FaceDetectionTraining.yml')\n",
    "while True:\n",
    "    ret,img = cam.read()\n",
    "    imggrey = cv2.cvtColor(img,cv2.COLOR_BGR2GRAY)\n",
    "    faces = faceDetection.detectMultiScale(imggrey,1.3,5)\n",
    "    for (x,y,w,h) in faces:\n",
    "        cv2.rectangle(img,(x,y),(x+w,y+h),(255,0,0),1)\n",
    "        id = recog.predict(imggrey[y:y+h,x:x+w])\n",
    "        if id == 1:\n",
    "            id = \"Harshal\"\n",
    "        elif id == 2:\n",
    "            id = \"Devashish\"\n",
    "        elif id == 3:\n",
    "            id = \"Abhishek\"\n",
    "        elif id == 4:\n",
    "            id = \"Mansi\"\n",
    "        else:\n",
    "            id = \"Unknown\"\n",
    "        cv2.putText(img,str(id),(int((x+w/2)),y+h),font, 1,(255,255,255),2,cv2.LINE_AA)\n",
    "    cv2.imshow(\"Faces\",img)\n",
    "    \n",
    "    key = cv2.waitKey(10)\n",
    "    if key == 27:\n",
    "        break\n",
    "        \n",
    "engine.say(\"Hello \"+str(id)+\", Nice to see you!!\")\n",
    "engine.runAndWait()        \n",
    "cam.release()\n",
    "cv2.destroyAllWindows()"
   ]
  },
  {
   "cell_type": "code",
   "execution_count": null,
   "metadata": {
    "collapsed": true
   },
   "outputs": [],
   "source": []
  },
  {
   "cell_type": "code",
   "execution_count": null,
   "metadata": {
    "collapsed": true
   },
   "outputs": [],
   "source": []
  }
 ],
 "metadata": {
  "anaconda-cloud": {},
  "kernelspec": {
   "display_name": "Python [conda root]",
   "language": "python",
   "name": "conda-root-py"
  },
  "language_info": {
   "codemirror_mode": {
    "name": "ipython",
    "version": 2
   },
   "file_extension": ".py",
   "mimetype": "text/x-python",
   "name": "python",
   "nbconvert_exporter": "python",
   "pygments_lexer": "ipython2",
   "version": "2.7.12"
  }
 },
 "nbformat": 4,
 "nbformat_minor": 1
}
